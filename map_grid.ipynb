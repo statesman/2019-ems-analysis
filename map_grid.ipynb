{
 "cells": [
  {
   "cell_type": "code",
   "execution_count": 1,
   "metadata": {},
   "outputs": [],
   "source": [
    "import pandas as pd\n",
    "import geopandas as gpd\n",
    "from shapely.geometry import Point\n",
    "\n",
    "import matplotlib.pyplot as plt"
   ]
  },
  {
   "cell_type": "code",
   "execution_count": 2,
   "metadata": {},
   "outputs": [],
   "source": [
    "grid = gpd.read_file('grid_1mile.json').assign(\n",
    "    idx = lambda x: 'hex-' + x.index.astype(str)\n",
    ")"
   ]
  },
  {
   "cell_type": "code",
   "execution_count": 3,
   "metadata": {},
   "outputs": [],
   "source": [
    "dat_points = pd.read_csv('priority1calls.csv').assign(\n",
    "    geometry = lambda x: x.apply(\n",
    "        lambda row: Point(\n",
    "            row['Incident_Longitude'],\n",
    "            row['Incident_Latitude']\n",
    "        ), axis=1\n",
    "    )\n",
    ")"
   ]
  },
  {
   "cell_type": "code",
   "execution_count": 4,
   "metadata": {},
   "outputs": [],
   "source": [
    "dat_points = gpd.GeoDataFrame(\n",
    "    dat_points\n",
    ")\n",
    "\n",
    "dat_points.crs = grid.crs"
   ]
  },
  {
   "cell_type": "code",
   "execution_count": 5,
   "metadata": {},
   "outputs": [],
   "source": [
    "dat_points_grid = gpd.sjoin(\n",
    "    dat_points,\n",
    "    grid,\n",
    "    how='left',\n",
    "    op='within'\n",
    ")"
   ]
  },
  {
   "cell_type": "code",
   "execution_count": 6,
   "metadata": {},
   "outputs": [],
   "source": [
    "breakdown_priority = dat_points_grid[[\n",
    "    'idx',\n",
    "    'Incident_Priority'\n",
    "]].pivot_table(\n",
    "    index='idx',\n",
    "    columns='Incident_Priority',\n",
    "    aggfunc=pd.Series.count\n",
    ").apply(\n",
    "    lambda x: round(\n",
    "        (x / sum(x)) * 100,\n",
    "        2\n",
    "    ), axis=1\n",
    ").fillna(0).rename(\n",
    "    columns = lambda x: 'priority-' + str(x)\n",
    ")"
   ]
  },
  {
   "cell_type": "code",
   "execution_count": 7,
   "metadata": {},
   "outputs": [],
   "source": [
    "breakdown_seconds = dat_points_grid.groupby('idx')['Incident_Priority'].agg([\n",
    "        pd.np.size\n",
    "    ]\n",
    ")"
   ]
  },
  {
   "cell_type": "code",
   "execution_count": 8,
   "metadata": {},
   "outputs": [],
   "source": [
    "breakdown_goal = dat_points_grid.groupby('idx')[\n",
    "    'Response_Interval_Goal_Met (1=Y; \" \"=N)'\n",
    "].agg([\n",
    "    sum,\n",
    "    pd.Series.count\n",
    "]).rename(\n",
    "    columns={\n",
    "        'sum': 'goal_met',\n",
    "        'count': 'total_count'\n",
    "    }\n",
    ").assign(\n",
    "    pct_goal_met = lambda x: round(\n",
    "        (x['goal_met'] / x['total_count']) * 100,\n",
    "        2\n",
    "    )\n",
    ")"
   ]
  },
  {
   "cell_type": "code",
   "execution_count": 9,
   "metadata": {},
   "outputs": [],
   "source": [
    "grid_merge = grid.set_index('idx').join(\n",
    "    breakdown_seconds.join(\n",
    "        breakdown_priority\n",
    "    ).join(\n",
    "        breakdown_goal\n",
    "    )\n",
    ").fillna(0).query('size > 0').rename(\n",
    "    columns = lambda x: str(x)\n",
    ")"
   ]
  },
  {
   "cell_type": "code",
   "execution_count": 10,
   "metadata": {},
   "outputs": [],
   "source": [
    "grid_merge.to_file(\n",
    "    'points-grid_1mile.geojson',\n",
    "    driver='GeoJSON'\n",
    ")"
   ]
  },
  {
   "cell_type": "code",
   "execution_count": null,
   "metadata": {},
   "outputs": [],
   "source": []
  }
 ],
 "metadata": {
  "kernelspec": {
   "display_name": "Python 3",
   "language": "python",
   "name": "python3"
  },
  "language_info": {
   "codemirror_mode": {
    "name": "ipython",
    "version": 3
   },
   "file_extension": ".py",
   "mimetype": "text/x-python",
   "name": "python",
   "nbconvert_exporter": "python",
   "pygments_lexer": "ipython3",
   "version": "3.6.1"
  }
 },
 "nbformat": 4,
 "nbformat_minor": 2
}
